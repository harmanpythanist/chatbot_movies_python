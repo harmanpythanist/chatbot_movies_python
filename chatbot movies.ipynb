{
 "cells": [
  {
   "cell_type": "code",
   "execution_count": 1,
   "id": "b42dd254",
   "metadata": {},
   "outputs": [],
   "source": [
    "import spacy\n",
    "nlp = spacy.load(\"en_core_web_md\")"
   ]
  },
  {
   "cell_type": "code",
   "execution_count": 2,
   "id": "0a2b9d42",
   "metadata": {},
   "outputs": [
    {
     "name": "stderr",
     "output_type": "stream",
     "text": [
      "C:\\Users\\dell\\anaconda3\\lib\\site-packages\\scipy\\__init__.py:155: UserWarning: A NumPy version >=1.18.5 and <1.25.0 is required for this version of SciPy (detected version 1.26.2\n",
      "  warnings.warn(f\"A NumPy version >={np_minversion} and <{np_maxversion}\"\n"
     ]
    }
   ],
   "source": [
    "import pandas as pd\n",
    "from sklearn.feature_extraction.text import CountVectorizer, TfidfVectorizer\n",
    "from sklearn.model_selection import train_test_split\n",
    "from sklearn.metrics.pairwise import cosine_similarity, linear_kernel\n",
    "import numpy\n",
    "import re\n",
    "import random\n",
    "import time\n",
    "from textblob import TextBlob"
   ]
  },
  {
   "cell_type": "code",
   "execution_count": 3,
   "id": "a85f5645",
   "metadata": {},
   "outputs": [],
   "source": [
    "# preprocessing\n",
    "#file = pd.read_csv('E://meal/movie_overviews.csv')\n",
    "#file1 = file.drop(['tagline', 'id'], axis=1)\n",
    "#file2 = file1.dropna(axis=0)\n",
    "\n",
    "#file2['titlee'] = [i.lower() for i in file2['title']]\n",
    "#file3 = file2.drop(['title'], axis=1)\n",
    "#file3['title'] = file3['titlee']\n",
    "#file3.drop(['titlee'], axis = 1, inplace=True)\n",
    "#file = file3\n",
    "# i have preprocessed all the data in this new file:\n",
    "\n",
    "# file after cleaning\n",
    "file = pd.read_excel('D://datasets/movi_review_updated.xlsx')"
   ]
  },
  {
   "cell_type": "code",
   "execution_count": 28,
   "id": "62dcfb98",
   "metadata": {},
   "outputs": [],
   "source": [
    "vectorizer = CountVectorizer(stop_words= 'english')\n",
    "r = vectorizer.fit_transform(file.overview)\n",
    "dataframe = pd.DataFrame(r.toarray(), columns = vectorizer.get_feature_names_out())\n",
    "\n",
    "sim = cosine_similarity(r,r)\n",
    "\n",
    "simf = linear_kernel(r,r)\n",
    "\n",
    "indices = pd.Series(file.index, index=file['title']).drop_duplicates()\n"
   ]
  },
  {
   "cell_type": "code",
   "execution_count": 29,
   "id": "f278bac6",
   "metadata": {},
   "outputs": [],
   "source": [
    "def recomendation(title, simi, indices):\n",
    "    title = title.lower()\n",
    "    idx = indices[title]\n",
    "    simi_score = list(enumerate(simi[idx]))\n",
    "    sim_score = sorted(simi_score, key=lambda x:x[1], reverse=True)\n",
    "    \n",
    "    scores_for_top = sim_score[1:11]\n",
    "    movies = [i[0] for i in scores_for_top]\n",
    "    print('>>>')\n",
    "    print('Based on the movie ' + title + ', you can watch: ')\n",
    "    print('')\n",
    "    for i in movies:\n",
    "        time.sleep(1)\n",
    "        print('>')\n",
    "        print(file['title'][i])"
   ]
  },
  {
   "cell_type": "code",
   "execution_count": 30,
   "id": "f8c99c9b",
   "metadata": {},
   "outputs": [],
   "source": [
    "def name(sen):\n",
    "    nk = re.compile('name|call')\n",
    "    rc = re.compile('[A-Z]{1}[a-z]*')\n",
    "    #if nk.search(sen):\n",
    "    nam = rc.findall(sen)\n",
    "        #print(nam[0])\n",
    "        #print(type(nam))    \n",
    "\n",
    "    try:\n",
    "        return nam[0]\n",
    "    except:\n",
    "        return 'human'"
   ]
  },
  {
   "cell_type": "code",
   "execution_count": 5,
   "id": "3afccf4e",
   "metadata": {},
   "outputs": [],
   "source": [
    "#def res(q):\n",
    "#    doc = nlp('sad')\n",
    "#    print(random.choice(qqq))\n",
    " #   b = input('')\n",
    "  #  simi = doc.similarity(nlp(b)) * 100\n",
    "#print(simi)\n",
    "   # time.sleep(2)\n",
    "    #if not re.search(r\"\\b(not|no|Not|No)\\b\", b):\n",
    "    \n",
    "     #   if simi > 50:\n",
    "  #          res  = input(random.choice(ques))\n",
    "   #         time.sleep(2)\n",
    "    #        print('I hope you are okay')    \n",
    "     #   else:\n",
    "      #      print(random.choice(fine_wala))\n",
    "#\n",
    " #   elif re.search(r\"\\b(not|no|Not|No)\\b\", b):\n",
    "  #      msg = input(random.choice(ques))\n",
    "   #     time.sleep(2)\n",
    "    #    print('I hope you are okay')    \n",
    "    #\n",
    "    #\n",
    " #   time.sleep(1)\n",
    "    \n",
    "  #  print(random.choice(intro))\n",
    "   # time.sleep(2)\n",
    "#    user_name=input(random.choice(your_name))\n",
    "    \n",
    " #   your_nme = name(user_name)\n",
    "  #  time.sleep(2)\n",
    "   # print('')\n",
    "    #print('hi ' + your_nme + ' ' + random.choice(sene))\n",
    "#    time.sleep(1)\n",
    " #   print('')"
   ]
  },
  {
   "cell_type": "code",
   "execution_count": 31,
   "id": "286e6972",
   "metadata": {},
   "outputs": [],
   "source": [
    "def res(q):\n",
    "    doc = nlp('sad')\n",
    "    print('>>>')\n",
    "    time.sleep(1)\n",
    "    print(random.choice(qqq))\n",
    "    b = input('')\n",
    "    simi = doc.similarity(nlp(b)) * 100\n",
    "#print(simi)\n",
    "    time.sleep(2)\n",
    "    if not re.search(r\"\\b(and|how|what|How|And|What|You|you)\", b):\n",
    "        \n",
    "        if not re.search(r\"\\b(not|no|Not|No)\\b\", b):\n",
    "    \n",
    "            if simi > 50:\n",
    "                print('>>>')\n",
    "                time.sleep(1)\n",
    "                print(random.choice(ques))\n",
    "                res  = input('')\n",
    "                time.sleep(2)\n",
    "                print('I hope you are okay')    \n",
    "            else:\n",
    "                print('>>>')\n",
    "                time.sleep(1)\n",
    "                print(random.choice(fine_wala))\n",
    "                #print('>>>')\n",
    "                time.sleep(1)\n",
    "                print(random.choice(ni_pucha))\n",
    "                a = input('')\n",
    "                if not re.search(r\"\\b(no|Not|dont|No|not|why|Why)\",a):\n",
    "                    print('>>>')\n",
    "                    time.sleep(1)\n",
    "                    print(random.choice(acha))\n",
    "                \n",
    "\n",
    "        elif re.search(r\"\\b(not|no|Not|No)\\b\", b):\n",
    "            print('>>>')\n",
    "            time.sleep(1)\n",
    "            print(random.choice(ques))\n",
    "            msg = input('')\n",
    "            time.sleep(2)\n",
    "            print('>>>')\n",
    "            time.sleep(1)\n",
    "            print('I hope you are okay')       \n",
    "    elif re.search(r\"\\b(and|how|what|How|And|What|You|you)\", b):\n",
    "        print('>>>')\n",
    "        time.sleep(1)\n",
    "        print(random.choice(greet))\n",
    "           \n",
    "    time.sleep(1)\n",
    "    \n",
    "    print(random.choice(intro))\n",
    "    time.sleep(2)\n",
    "    print('>>>')\n",
    "    time.sleep(1)\n",
    "    print(random.choice(your_name))\n",
    "    user_name=input('')\n",
    "    \n",
    "    your_nme = name(user_name)\n",
    "    time.sleep(2)\n",
    "    print('>>>')\n",
    "    time.sleep(1)\n",
    "    if your_nme =='human':\n",
    "        print('hi human..')\n",
    "    else:\n",
    "        print('hi ' + your_nme + ' ' + random.choice(sene))\n",
    "    time.sleep(1)\n",
    "    \n",
    "    print('>>>')\n",
    "    time.sleep(1)\n",
    "    print(random.choice(qq))\n",
    "    gh = input('')\n",
    "    if not re.search(r\"\\b(no|not|Not|No|why|Why|nope|Nope)\",gh):\n",
    "        print('>>>')\n",
    "        time.sleep(1)\n",
    "        print(random.choice(ee))\n",
    "    else:\n",
    "        print('>>>')\n",
    "        time.sleep(1)\n",
    "        print(random.choice(['marzi', 'your choice', 'blunt', 'okay, nice']))"
   ]
  },
  {
   "cell_type": "code",
   "execution_count": 32,
   "id": "cbbed837",
   "metadata": {},
   "outputs": [],
   "source": [
    "def rev(text):\n",
    "    \n",
    "    sc = TextBlob(text).sentiment.polarity\n",
    "    if sc >= 0:\n",
    "        print('>>>')\n",
    "        print(random.choice(happy_r))\n",
    "    else:\n",
    "        print('>>>')\n",
    "        print(random.choice(no_h))\n",
    "        qhess = input('')\n",
    "    "
   ]
  },
  {
   "cell_type": "code",
   "execution_count": 33,
   "id": "5caf56a4",
   "metadata": {},
   "outputs": [],
   "source": [
    "def f(movi):\n",
    "    #hry = input('hello user! how are you')\n",
    "    \n",
    "    \n",
    "    \n",
    "    print('>>>')\n",
    "    print('hurrah! i can help you find movie with similar plot. Can you provide me with some words of  movie ' + movi + ': ')\n",
    "    name = input('')\n",
    "    #for i in range(9099):\n",
    "    overview = file.loc[file['title'] == movi]\n",
    "    text = ' '.join(overview['overview']) \n",
    "    if len(text) > 10:\n",
    "        time.sleep(1)\n",
    "        print('>>>')\n",
    "        print('ooh, I got that.... ' + movi + ' is about \\n')\n",
    "        time.sleep(1)\n",
    "        print(text)\n",
    "        \n",
    "        #if file['title'][i] == movi:\n",
    "             \n",
    "    \n",
    "        print('>>>') \n",
    "        time.sleep(1)\n",
    "        print(random.choice(['am i right?..', 'is it so? ', 'is this the movie you talking about? ']))\n",
    "        a = input('')\n",
    "        time.sleep(1)\n",
    "        if not re.search(r\"\\b(no|not|wrong|Not|No|)\",a):\n",
    "            print('>>>')\n",
    "            print('thankyou')\n",
    "            print('')\n",
    "        #else:   \n",
    "            print('>>>')\n",
    "            #print('ops, I think there is some issue with data i am provided with!!.. I will try to fix it soon')\n",
    "        \n",
    "    else:\n",
    "        print('>>>')\n",
    "        print('ops, i cant find that movie')\n",
    "    \n",
    "    print('')\n",
    "    time.sleep(1)\n",
    "    recomendation(movi, sim, indices) \n",
    "    \n",
    "    \n",
    "    #rev(input(random.choice(q_af_s)))\n",
    "    print('>>>')\n",
    "    print(random.choice(q_af_s))\n",
    "    hh = input('')\n",
    "    rev(hh)"
   ]
  },
  {
   "cell_type": "code",
   "execution_count": 34,
   "id": "c05108fe",
   "metadata": {},
   "outputs": [],
   "source": [
    "def final_wala(hi):    \n",
    "    time.sleep(2)\n",
    "    res('null')\n",
    "    print('>>>')\n",
    "    print('i am recommender chatbot and able to recommend you some movies..')\n",
    "    time.sleep(1)\n",
    "    print('>>>')\n",
    "    print(random.choice(suf))\n",
    "    want_sug = input('')\n",
    "    if re.search(r\"\\b(ya|yeah|sure|yes|ya|maybe|obviouly|ofcourse|please)\\b\", want_sug):\n",
    "        \n",
    "        time.sleep(2)\n",
    "        time.sleep(1)\n",
    "        print('>>>')\n",
    "        print(random.choice(quest))\n",
    "        time.sleep(1)\n",
    "        #print('>>>')\n",
    "        #print('you have any movie in mind that you liked? ')\n",
    "        answ = input('')\n",
    "        if not re.search(r\"no|not|No|dont|don't\", answ):\n",
    "            #if re.search(r\"yes|yeah|have|think|beleive|having|ya\", answ):\n",
    "            time.sleep(1)\n",
    "            print('>>>')\n",
    "            print('what movie do you like the most')\n",
    "            gggg = input('')\n",
    "            f(gggg)\n",
    "                #print(random.choice(mov))\n",
    "                #f(input('what movie do you like the most: '))\n",
    "        else:\n",
    "            print('>>>')\n",
    "            print('should i suggest you some movie')\n",
    "    else:\n",
    "        time.sleep(1)\n",
    "        print('>>>')\n",
    "        print('marzi')"
   ]
  },
  {
   "cell_type": "code",
   "execution_count": 35,
   "id": "0dc15c49",
   "metadata": {
    "scrolled": false
   },
   "outputs": [
    {
     "name": "stdout",
     "output_type": "stream",
     "text": [
      ">>>\n",
      "hello, how is your health: \n",
      "fine\n",
      ">>>\n",
      "\n",
      "arent you asking me? \n",
      "?\n",
      ">>>\n",
      "i am good\n",
      "i am movie recommender chatbot btw,\n",
      ">>>\n",
      "what do they call you? \n",
      "Harman\n",
      ">>>\n",
      "hi Harman sounds good\n",
      ">>>\n",
      "who i am....arent you asking?\n",
      "who are you\n",
      ">>>\n",
      "newly born chatbot!!\n",
      ">>>\n",
      "i am recommender chatbot and able to recommend you some movies..\n",
      ">>>\n",
      "you want suggestions on movie? \n",
      "yes\n",
      ">>>\n",
      "you have any movie in mind that you liked? \n",
      "yeah\n",
      ">>>\n",
      "what movie do you like the most\n",
      "casino\n",
      ">>>\n",
      "hurrah! i can help you find movie with similar plot. Can you provide me with some words of  movie casino: \n",
      "no..\n",
      ">>>\n",
      "ooh, I got that.... casino is about \n",
      "\n",
      "The life of the gambling paradise – Las Vegas – and its dark mafia underbelly.\n",
      ">>>\n",
      "is it so? \n",
      "yeah\n",
      "\n",
      ">>>\n",
      "Based on the movie casino, you can watch: \n",
      "\n",
      ">\n",
      "go\n",
      ">\n",
      "raising helen\n",
      ">\n",
      "up\n",
      ">\n",
      "hands in the air\n",
      ">\n",
      "donnie brasco\n",
      ">\n",
      "interview with the vampire\n",
      ">\n",
      "bugsy\n",
      ">\n",
      "mr. destiny\n",
      ">\n",
      "the u.s. vs. john lennon\n",
      ">\n",
      "the seeker: the dark is rising\n",
      ">>>\n",
      "give me your review on my suggestions please..\n",
      "great\n",
      ">>>\n",
      "I am under traineee.....Still it looks like you are happy\n"
     ]
    }
   ],
   "source": [
    "final_wala('hi')\n"
   ]
  },
  {
   "cell_type": "code",
   "execution_count": null,
   "id": "b7395e75",
   "metadata": {},
   "outputs": [],
   "source": []
  },
  {
   "cell_type": "markdown",
   "id": "6cf6b2ca",
   "metadata": {},
   "source": [
    "# responses to be used in chat"
   ]
  },
  {
   "cell_type": "code",
   "execution_count": 11,
   "id": "9e4425f2",
   "metadata": {},
   "outputs": [],
   "source": [
    "qq= ['are you wondering who i am?', 'who i am....arent you asking?']"
   ]
  },
  {
   "cell_type": "code",
   "execution_count": 12,
   "id": "578d3fdf",
   "metadata": {},
   "outputs": [],
   "source": [
    "ee = ['chatbot!!', 'i am under trainee chatbot', 'newly born chatbot!!', 'chatbot, undertrainee, piece of time pass']"
   ]
  },
  {
   "cell_type": "code",
   "execution_count": 13,
   "id": "819d8718",
   "metadata": {},
   "outputs": [],
   "source": [
    "acha=['i am good', 'I am fine also', 'I am feeling exellent']"
   ]
  },
  {
   "cell_type": "code",
   "execution_count": 14,
   "id": "5e1a9c8e",
   "metadata": {},
   "outputs": [],
   "source": [
    "ni_pucha = ['arent you asking me? ', 'thats so mean...you didnt asked me', 'i was expecting you to ask same from me']"
   ]
  },
  {
   "cell_type": "code",
   "execution_count": 15,
   "id": "62b528d8",
   "metadata": {},
   "outputs": [],
   "source": [
    "greet = ['I am good. thanks for asking,', 'I am always fine and good', 'theek thaak', 'all fine, thanks for asking btw']"
   ]
  },
  {
   "cell_type": "code",
   "execution_count": 16,
   "id": "c2aff1a2",
   "metadata": {},
   "outputs": [],
   "source": [
    "suf = ['you want suggestions on movie? ', 'you want to decide what movie to choose next? ', 'what about you next movie..I can suggest some..', 'As i am a chatbot, I want provide you with some good movie..what says??']"
   ]
  },
  {
   "cell_type": "code",
   "execution_count": 17,
   "id": "e850a9d7",
   "metadata": {},
   "outputs": [],
   "source": [
    "sene = ['nice name', 'sounds good', 'heard for the first time']"
   ]
  },
  {
   "cell_type": "code",
   "execution_count": 18,
   "id": "82c81f5a",
   "metadata": {},
   "outputs": [],
   "source": [
    "qqq = ['hi there..how are you user: ', 'hello, how is your health: ', 'how are you user: ', 'Somebody after a long time finally!! how are you: ']"
   ]
  },
  {
   "cell_type": "code",
   "execution_count": 19,
   "id": "31b31487",
   "metadata": {},
   "outputs": [],
   "source": [
    "ques = ['Sorry to hear that...what happened: ', 'Oops, what is going on: ', 'My sympathy.. ']"
   ]
  },
  {
   "cell_type": "code",
   "execution_count": 20,
   "id": "149630a8",
   "metadata": {},
   "outputs": [],
   "source": [
    "fine_wala = ['thats nice', 'great', 'nice to hear', 'amazing', 'roger', 'thats nice', 'good to hear', '']"
   ]
  },
  {
   "cell_type": "code",
   "execution_count": 21,
   "id": "8e22a109",
   "metadata": {},
   "outputs": [],
   "source": [
    "intro = ['i am movie recommender chatbot btw,', 'my name is chatbot', 'I am chatbot...', 'people call me chatbot']"
   ]
  },
  {
   "cell_type": "code",
   "execution_count": 22,
   "id": "c8403c9d",
   "metadata": {},
   "outputs": [],
   "source": [
    "your_name = ['what do they call you? ', 'what is your name? let me know: ']"
   ]
  },
  {
   "cell_type": "code",
   "execution_count": 23,
   "id": "e8938fc5",
   "metadata": {},
   "outputs": [],
   "source": [
    "q_af_s = ['did you like my suggestions? ','was it nice? ', 'how are my suggestion..', 'give me your review on my suggestions please..']"
   ]
  },
  {
   "cell_type": "code",
   "execution_count": 24,
   "id": "e7e161f5",
   "metadata": {},
   "outputs": [],
   "source": [
    "no_h = ['It looks like you arent happy with suggestions....whyyy', 'it looks like you didnt like movies i suggested', 'oops']"
   ]
  },
  {
   "cell_type": "code",
   "execution_count": 25,
   "id": "1c5e22b8",
   "metadata": {},
   "outputs": [],
   "source": [
    "happy_r = ['I am under traineee.....Still it looks like you are happy', 'I am still learning...but i think you are happy with my suggestions', 'it looks like you enjoyed']"
   ]
  },
  {
   "cell_type": "code",
   "execution_count": 26,
   "id": "59a8019e",
   "metadata": {},
   "outputs": [],
   "source": [
    "quest = ['do you need recommendation based on other movie? ', 'you have any movie in mind that you liked? ']"
   ]
  },
  {
   "cell_type": "code",
   "execution_count": null,
   "id": "1ce74be3",
   "metadata": {},
   "outputs": [],
   "source": []
  }
 ],
 "metadata": {
  "kernelspec": {
   "display_name": "Python 3 (ipykernel)",
   "language": "python",
   "name": "python3"
  },
  "language_info": {
   "codemirror_mode": {
    "name": "ipython",
    "version": 3
   },
   "file_extension": ".py",
   "mimetype": "text/x-python",
   "name": "python",
   "nbconvert_exporter": "python",
   "pygments_lexer": "ipython3",
   "version": "3.9.13"
  }
 },
 "nbformat": 4,
 "nbformat_minor": 5
}
